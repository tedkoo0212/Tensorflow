{
  "nbformat": 4,
  "nbformat_minor": 0,
  "metadata": {
    "colab": {
      "name": "CNN[Tensorflow 102].01.ipynb",
      "provenance": [],
      "collapsed_sections": [],
      "authorship_tag": "ABX9TyPlPG3CBnHHT8SIxD954ZYa",
      "include_colab_link": true
    },
    "kernelspec": {
      "name": "python3",
      "display_name": "Python 3"
    },
    "language_info": {
      "name": "python"
    }
  },
  "cells": [
    {
      "cell_type": "markdown",
      "metadata": {
        "id": "view-in-github",
        "colab_type": "text"
      },
      "source": [
        "<a href=\"https://colab.research.google.com/github/tedkoo0212/Tensorflow/blob/main/CNN%5BTensorflow_102%5D_01.ipynb\" target=\"_parent\"><img src=\"https://colab.research.google.com/assets/colab-badge.svg\" alt=\"Open In Colab\"/></a>"
      ]
    },
    {
      "cell_type": "code",
      "metadata": {
        "id": "N4DzIRUevYX7"
      },
      "source": [
        "#딥러닝 공부 시 용어 지옥\n",
        "# 1. 생소한 용어가 너무 많다.\n",
        "# 2. 하나의 대상을 부르는 다양한 표현이 있다.\n",
        "# 3. 하나의 표현이 몇가지 다른 의미로 해석되는 경우가 있다."
      ],
      "execution_count": 1,
      "outputs": []
    },
    {
      "cell_type": "code",
      "metadata": {
        "id": "Mxl694hSz9_3"
      },
      "source": [
        "import tensorflow as tf\n",
        "import pandas as pd"
      ],
      "execution_count": 4,
      "outputs": []
    },
    {
      "cell_type": "code",
      "metadata": {
        "colab": {
          "base_uri": "https://localhost:8080/",
          "height": 130
        },
        "id": "y2nlBoLl0Ark",
        "outputId": "492297a2-6070-488f-f9e6-c2715250bd12"
      },
      "source": [
        "#이미지 데이터 구경하기\n",
        "\n",
        "MNIST : 손글씨 (흑백)\n",
        "\n",
        "ex) 숫자 5 : 개별 Mnist - (28,28) 각 숫자 1개는 까맣고 하얀 정도를 나타낸다. \n",
        "0에 가까우면 검은색 255에 가까우면 흰색.\n",
        "[총 숫자 갯수=28*28=784]\n",
        "\n",
        "2차원 형태, 784차원 공간의 한 점\n",
        "\n",
        "60000장 이라면 -> 이미지셋 (60000,28,28)"
      ],
      "execution_count": 1,
      "outputs": [
        {
          "output_type": "error",
          "ename": "SyntaxError",
          "evalue": "ignored",
          "traceback": [
            "\u001b[0;36m  File \u001b[0;32m\"<ipython-input-1-e6e4e0d220c9>\"\u001b[0;36m, line \u001b[0;32m5\u001b[0m\n\u001b[0;31m    ex) 숫자 5 : 개별 Mnist - (28,28) 각 숫자 1개는 까맣고 하얀 정도를 나타낸다.\u001b[0m\n\u001b[0m      ^\u001b[0m\n\u001b[0;31mSyntaxError\u001b[0m\u001b[0;31m:\u001b[0m invalid syntax\n"
          ]
        }
      ]
    },
    {
      "cell_type": "code",
      "metadata": {
        "colab": {
          "base_uri": "https://localhost:8080/",
          "height": 130
        },
        "id": "CwmtdHiKfTM_",
        "outputId": "0a857c37-7593-4593-a691-5a947e9fefdd"
      },
      "source": [
        "# CIFAR10 : 그림 (칼라)\n",
        "\n",
        "32*32\n",
        "흑백과 다른점: 2차원 숫자 집합(32*32)가 3개 존재한다. (빨강,초록,파랑)\n",
        "즉, 다르게 생각하면, 각 칸에 32*32의 모든 칸에 3개의 값을 가지는 것이다.(0-255 사이의 값; 색깔의 농도를 나타냄)\n",
        "\n",
        "개별 cifar10 - (32,32,3) : 3차원 형태, 3072차원 공간의 한 점\n"
      ],
      "execution_count": 3,
      "outputs": [
        {
          "output_type": "error",
          "ename": "SyntaxError",
          "evalue": "ignored",
          "traceback": [
            "\u001b[0;36m  File \u001b[0;32m\"<ipython-input-3-1311f63e3d4b>\"\u001b[0;36m, line \u001b[0;32m4\u001b[0m\n\u001b[0;31m    흑백과 다른점: 2차원 숫자 집합(32*32)가 3개 존재한다. (빨강,초록,파랑)\u001b[0m\n\u001b[0m          ^\u001b[0m\n\u001b[0;31mSyntaxError\u001b[0m\u001b[0;31m:\u001b[0m invalid syntax\n"
          ]
        }
      ]
    },
    {
      "cell_type": "code",
      "metadata": {
        "colab": {
          "base_uri": "https://localhost:8080/"
        },
        "id": "DftSXaTgw2FZ",
        "outputId": "25a57544-f52c-4527-f092-2790fdce3cce"
      },
      "source": [
        "(mnist_x, mnist_y), _ = tf.keras.datasets.mnist.load_data()\n",
        "print(mnist_x.shape, mnist_y.shape)\n",
        "\n",
        "(cifar_x, cifar_y), _ = tf.keras.datasets.cifar10.load_data()\n",
        "print(cifar_x.shape, cifar_y.shape)"
      ],
      "execution_count": 8,
      "outputs": [
        {
          "output_type": "stream",
          "text": [
            "Downloading data from https://storage.googleapis.com/tensorflow/tf-keras-datasets/mnist.npz\n",
            "11493376/11490434 [==============================] - 0s 0us/step\n",
            "(60000, 28, 28) (60000,)\n",
            "Downloading data from https://www.cs.toronto.edu/~kriz/cifar-10-python.tar.gz\n",
            "170500096/170498071 [==============================] - 7s 0us/step\n",
            "(50000, 32, 32, 3) (50000, 1)\n"
          ],
          "name": "stdout"
        }
      ]
    },
    {
      "cell_type": "markdown",
      "metadata": {
        "id": "hQ1jioDpyZAK"
      },
      "source": [
        "### 1 . 화면 출력"
      ]
    },
    {
      "cell_type": "code",
      "metadata": {
        "colab": {
          "base_uri": "https://localhost:8080/",
          "height": 282
        },
        "id": "vCUCdvqAxGky",
        "outputId": "bc2ea988-8bfb-4f5f-b5a8-5b2106a7a108"
      },
      "source": [
        "import matplotlib.pyplot as plt\n",
        "plt.imshow(mnist_x[0])\n",
        "print(mnist_y[0:10])\n"
      ],
      "execution_count": 12,
      "outputs": [
        {
          "output_type": "stream",
          "text": [
            "[5 0 4 1 9 2 1 3 1 4]\n"
          ],
          "name": "stdout"
        },
        {
          "output_type": "display_data",
          "data": {
            "image/png": "[encoded data removed]",
            "text/plain": [
              "<Figure size 432x288 with 1 Axes>"
            ]
          },
          "metadata": {
            "tags": [],
            "needs_background": "light"
          }
        }
      ]
    },
    {
      "cell_type": "code",
      "metadata": {
        "colab": {
          "base_uri": "https://localhost:8080/",
          "height": 453
        },
        "id": "jruZ-AEdyjSy",
        "outputId": "f076ec3e-3275-4fda-ba7f-f20eda985c20"
      },
      "source": [
        "print(cifar_y[0:10])\n",
        "x1 = plt.imshow(cifar_x[0])\n",
        "print(x1)"
      ],
      "execution_count": 16,
      "outputs": [
        {
          "output_type": "stream",
          "text": [
            "[[6]\n",
            " [9]\n",
            " [9]\n",
            " [4]\n",
            " [1]\n",
            " [1]\n",
            " [2]\n",
            " [7]\n",
            " [8]\n",
            " [3]]\n",
            "AxesImage(54,36;334.8x217.44)\n"
          ],
          "name": "stdout"
        },
        {
          "output_type": "display_data",
          "data": {
            "image/png": "[encoded data removed]",
            "text/plain": [
              "<Figure size 432x288 with 1 Axes>"
            ]
          },
          "metadata": {
            "tags": [],
            "needs_background": "light"
          }
        }
      ]
    },
    {
      "cell_type": "markdown",
      "metadata": {
        "id": "g3Ptg9GA_ESy"
      },
      "source": [
        "plt.imshow(cifar_x[0]) 를 해도 되고\n",
        "\n",
        "x1 = plt.imshow(cifar_x[0])\n",
        "print(x1) 을 해도 동일한 결과가 나온다.\n",
        "\n",
        "하지만, 추측상, index를 통한 접근에서 제한이 있지 않을까 싶다. "
      ]
    },
    {
      "cell_type": "markdown",
      "metadata": {
        "id": "2A0K0HwP_-Kr"
      },
      "source": [
        "### 2 . 차원 확인"
      ]
    },
    {
      "cell_type": "code",
      "metadata": {
        "colab": {
          "base_uri": "https://localhost:8080/"
        },
        "id": "GdyfhUoj9Pzu",
        "outputId": "88fa3cc7-3c5e-42aa-98ce-73ed238aced1"
      },
      "source": [
        "import numpy as np\n",
        "\n",
        "d1 = np.array([1,2,3,4,5])\n",
        "print(d1.shape)\n",
        "\n",
        "d2 = np.array([d1,d1,d1,d1])\n",
        "print(d2.shape)\n",
        "#젠장, DHL처럼 DL을 쓰고 d1(숫자1)과 혼동해서 에러를 놓칠뻔.\n",
        "\n",
        "d3 = np.array([d2,d2,d2])\n",
        "print(d3.shape)\n",
        "# 3차원\n",
        "\n",
        "d4 = np.array([d3,d3])\n",
        "print(d4.shape)"
      ],
      "execution_count": 3,
      "outputs": [
        {
          "output_type": "stream",
          "text": [
            "(5,)\n",
            "(4, 5)\n",
            "(3, 4, 5)\n",
            "(2, 3, 4, 5)\n"
          ],
          "name": "stdout"
        }
      ]
    },
    {
      "cell_type": "code",
      "metadata": {
        "colab": {
          "base_uri": "https://localhost:8080/"
        },
        "id": "A-06uXk3AIG1",
        "outputId": "1f0f3455-a643-40df-9bd7-a0bcfae2aa6a"
      },
      "source": [
        "print(mnist_y.shape)\n",
        "print(cifar_y.shape)"
      ],
      "execution_count": 37,
      "outputs": [
        {
          "output_type": "stream",
          "text": [
            "(60000,)\n",
            "(50000, 1)\n"
          ],
          "name": "stdout"
        }
      ]
    },
    {
      "cell_type": "code",
      "metadata": {
        "colab": {
          "base_uri": "https://localhost:8080/"
        },
        "id": "9gcq7SvxGGkl",
        "outputId": "9e25235c-dd20-4368-bbfc-26e65d5acc7a"
      },
      "source": [
        "r1 = np.array([1,2,3,4,5])\n",
        "print(r1.shape)\n",
        "\n",
        "r2 = np.array([r1, r1, r1])\n",
        "print(r2.shape)"
      ],
      "execution_count": 40,
      "outputs": [
        {
          "output_type": "stream",
          "text": [
            "(5,)\n",
            "(3, 5)\n"
          ],
          "name": "stdout"
        }
      ]
    },
    {
      "cell_type": "code",
      "metadata": {
        "colab": {
          "base_uri": "https://localhost:8080/"
        },
        "id": "482tVYuqGMWh",
        "outputId": "3e663f76-0c50-414c-cf78-36c5c5d8fe2a"
      },
      "source": [
        "s1 = np.array([1,2])\n",
        "s2 = np.array([3,4,5])\n",
        "s3 = np.array([6,0])\n",
        "s4 = np.array([7,8,9,10])\n",
        "\n",
        "s5 = np.array([[s1],[s2],[s3],[s4]])\n",
        "print(s5.shape)\n",
        "s6 = np.array([s1,s1,s1,s1])\n",
        "print(s6.shape)\n",
        "# (4,2) -> 2개짜리가 4개들어있다.\n",
        "\n",
        "s7 = np.array([[1,2,3,4,5]])\n",
        "print(s7.shape) #(1,5)\n",
        "\n",
        "s8 = np.array([s7,s7,s7,s7])\n",
        "print(s8.shape) #(4,1,5)\n",
        "\n",
        "s9 = np.array([s8,s8])\n",
        "print(s9.shape) #4차원 4-Dimensional"
      ],
      "execution_count": 19,
      "outputs": [
        {
          "output_type": "stream",
          "text": [
            "(4, 1)\n",
            "(4, 2)\n",
            "(1, 5)\n",
            "(4, 1, 5)\n",
            "(2, 4, 1, 5)\n"
          ],
          "name": "stdout"
        },
        {
          "output_type": "stream",
          "text": [
            "/usr/local/lib/python3.7/dist-packages/ipykernel_launcher.py:6: VisibleDeprecationWarning: Creating an ndarray from ragged nested sequences (which is a list-or-tuple of lists-or-tuples-or ndarrays with different lengths or shapes) is deprecated. If you meant to do this, you must specify 'dtype=object' when creating the ndarray\n",
            "  \n"
          ],
          "name": "stderr"
        }
      ]
    },
    {
      "cell_type": "code",
      "metadata": {
        "colab": {
          "base_uri": "https://localhost:8080/"
        },
        "id": "5OYsC8-aG0Zx",
        "outputId": "3caf7a06-a901-46ed-aa22-449dab471dea"
      },
      "source": [
        "print(mnist_y.shape)\n",
        "print(cifar_y.shape)"
      ],
      "execution_count": 9,
      "outputs": [
        {
          "output_type": "stream",
          "text": [
            "(60000,)\n",
            "(50000, 1)\n"
          ],
          "name": "stdout"
        }
      ]
    },
    {
      "cell_type": "code",
      "metadata": {
        "colab": {
          "base_uri": "https://localhost:8080/"
        },
        "id": "7sYENDX0emtb",
        "outputId": "85116ed0-827e-43f8-94d6-42da922f1156"
      },
      "source": [
        "print(mnist_y[0:10])\n",
        "print(mnist_y[0:10].shape)\n",
        "\n",
        "x2 = np.array([[1,2,3,4,5]])\n",
        "print(x2.shape)"
      ],
      "execution_count": 13,
      "outputs": [
        {
          "output_type": "stream",
          "text": [
            "[5 0 4 1 9 2 1 3 1 4]\n",
            "(10,)\n",
            "(1, 5)\n"
          ],
          "name": "stdout"
        }
      ]
    },
    {
      "cell_type": "code",
      "metadata": {
        "colab": {
          "base_uri": "https://localhost:8080/"
        },
        "id": "08l9AcO0fvAY",
        "outputId": "beeae7b2-a861-4d8f-e7b5-560045761f29"
      },
      "source": [
        "# (5,1)만들기\n",
        "\n",
        "# 나만의 해석: 크기 1 이 5개 (요소를 각각 하나씩 준다.)\n",
        "\n",
        "x3 = np.array([[1],[1],[1],[1],[1]])\n",
        "print(x3.shape)"
      ],
      "execution_count": 14,
      "outputs": [
        {
          "output_type": "stream",
          "text": [
            "(5, 1)\n"
          ],
          "name": "stdout"
        }
      ]
    },
    {
      "cell_type": "code",
      "metadata": {
        "colab": {
          "base_uri": "https://localhost:8080/"
        },
        "id": "cnCox4yhgQFt",
        "outputId": "3023dd6f-d058-474e-8905-3cc80495aaa5"
      },
      "source": [
        "print(cifar_y[0:5]) # 1차원의 형태가 여러 개 들어가 있고, 그것이 모여 2차원의 형태를 이룬다.\n",
        "print(cifar_y[0:5].shape)"
      ],
      "execution_count": 16,
      "outputs": [
        {
          "output_type": "stream",
          "text": [
            "[[6]\n",
            " [9]\n",
            " [9]\n",
            " [4]\n",
            " [1]]\n",
            "(5, 1)\n"
          ],
          "name": "stdout"
        }
      ]
    },
    {
      "cell_type": "code",
      "metadata": {
        "id": "hvhg41FogYXJ"
      },
      "source": [
        " "
      ],
      "execution_count": null,
      "outputs": []
    }
  ]
}